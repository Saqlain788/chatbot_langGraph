{
  "cells": [
    {
      "cell_type": "markdown",
      "source": [
        "# Quick Start\n",
        "\n",
        "In this comprehensive quick start, we will build a support chatbot in LangGraph that can:\n",
        "\n",
        "- Answer common questions by searching the web\n",
        "- Maintain conversation state across calls\n",
        "- Route complex queries to a human for review\n",
        "- Use custom state to control its behavior\n",
        "- Rewind and explore alternative conversation paths\n",
        "\n",
        "We'll start with a basic chatbot and progressively add more sophisticated capabilities, introducing key LangGraph concepts along the way.\n",
        "\n",
        "## Setup\n",
        "\n",
        "First, install the required packages:"
      ],
      "metadata": {
        "id": "CJHVKN5WSrQ3"
      }
    },
    {
      "cell_type": "code",
      "execution_count": null,
      "metadata": {
        "id": "VFllzfziYKpc"
      },
      "outputs": [],
      "source": [
        "%%capture --no-stderr\n",
        "!pip install langchain langchain-google-genai langgraph"
      ]
    },
    {
      "cell_type": "code",
      "execution_count": null,
      "metadata": {
        "id": "Q3iRjP36Zbnr"
      },
      "outputs": [],
      "source": [
        "from google.colab import userdata\n",
        "GEMINI_API_KEY = userdata.get(\"GEMINI_API_KEY\")"
      ]
    },
    {
      "cell_type": "code",
      "execution_count": null,
      "metadata": {
        "id": "jG9OxbFcZuyS"
      },
      "outputs": [],
      "source": [
        "from langchain_google_genai import ChatGoogleGenerativeAI\n",
        "llm: ChatGoogleGenerativeAI = ChatGoogleGenerativeAI (\n",
        "  api_key=GEMINI_API_KEY, model=\"gemini-1.5-flash\")"
      ]
    },
    {
      "cell_type": "code",
      "execution_count": null,
      "metadata": {
        "colab": {
          "base_uri": "https://localhost:8080/"
        },
        "id": "9yPo-Ysla6FC",
        "outputId": "fce2eb40-098e-41fb-fa00-37897fddcb3f"
      },
      "outputs": [
        {
          "output_type": "execute_result",
          "data": {
            "text/plain": [
              "AIMessage(content='Hi there! What can I do for you today? \\n', additional_kwargs={}, response_metadata={'prompt_feedback': {'block_reason': 0, 'safety_ratings': []}, 'finish_reason': 'STOP', 'safety_ratings': [{'category': 'HARM_CATEGORY_SEXUALLY_EXPLICIT', 'probability': 'NEGLIGIBLE', 'blocked': False}, {'category': 'HARM_CATEGORY_HATE_SPEECH', 'probability': 'NEGLIGIBLE', 'blocked': False}, {'category': 'HARM_CATEGORY_HARASSMENT', 'probability': 'NEGLIGIBLE', 'blocked': False}, {'category': 'HARM_CATEGORY_DANGEROUS_CONTENT', 'probability': 'NEGLIGIBLE', 'blocked': False}]}, id='run-125e635f-8b7a-4540-802a-235579814b19-0', usage_metadata={'input_tokens': 2, 'output_tokens': 12, 'total_tokens': 14})"
            ]
          },
          "metadata": {},
          "execution_count": 5
        }
      ],
      "source": [
        "llm.invoke(\"Hi\")\n"
      ]
    },
    {
      "cell_type": "markdown",
      "metadata": {
        "id": "LVdcGJv0cCaU"
      },
      "source": [
        "## Start Building Chatbot using LangGraph"
      ]
    },
    {
      "cell_type": "code",
      "execution_count": null,
      "metadata": {
        "id": "cCzdILW3bMQ6"
      },
      "outputs": [],
      "source": [
        "from typing import Annotated\n",
        "from typing_extensions import TypedDict\n",
        "from langgraph.graph import StateGraph, START, END\n",
        "from langgraph.graph.message import add_messages\n",
        "from langgraph.graph.state import CompiledStateGraph\n",
        "\n",
        "class State(TypedDict):\n",
        "  messages: Annotated[list,add_messages]\n"
      ]
    },
    {
      "cell_type": "code",
      "execution_count": null,
      "metadata": {
        "id": "8CMZtSjWbhr5"
      },
      "outputs": [],
      "source": [
        "def chatbot(state:State) -> State:\n",
        "  return {\"messages\": llm.invoke(state[\"messages\"])}"
      ]
    },
    {
      "cell_type": "code",
      "execution_count": null,
      "metadata": {
        "colab": {
          "base_uri": "https://localhost:8080/"
        },
        "id": "JzUi3gQDeGgh",
        "outputId": "f8f30fdb-10f9-4c6d-e620-e02f4c3e5c96"
      },
      "outputs": [
        {
          "output_type": "execute_result",
          "data": {
            "text/plain": [
              "<langgraph.graph.state.StateGraph at 0x7fbc571bb1f0>"
            ]
          },
          "metadata": {},
          "execution_count": 8
        }
      ],
      "source": [
        "builder : StateGraph = StateGraph(State)\n",
        "# create chatbot Node\n",
        "builder.add_node(\"chatbot\", chatbot)\n",
        "# create edge\n",
        "builder.add_edge(START, \"chatbot\")\n",
        "builder.add_edge(\"chatbot\", END)"
      ]
    },
    {
      "cell_type": "code",
      "execution_count": null,
      "metadata": {
        "id": "MRHqLNjYhrZK"
      },
      "outputs": [],
      "source": [
        "graph : CompiledStateGraph = builder.compile()"
      ]
    },
    {
      "cell_type": "code",
      "execution_count": null,
      "metadata": {
        "colab": {
          "base_uri": "https://localhost:8080/",
          "height": 251
        },
        "id": "Szm6qOLRhv-A",
        "outputId": "33250863-6260-4e0d-e916-2e6653a54e5e"
      },
      "outputs": [
        {
          "output_type": "display_data",
          "data": {
            "image/jpeg": "[encoded data removed]",
            "text/plain": [
              "<IPython.core.display.Image object>"
            ]
          },
          "metadata": {}
        }
      ],
      "source": [
        "from IPython.display import display, Image\n",
        "try:\n",
        "  display(Image(graph.get_graph().draw_mermaid_png()))\n",
        "except Exception:\n",
        "  pass"
      ]
    },
    {
      "cell_type": "code",
      "execution_count": null,
      "metadata": {
        "id": "t0YX_3k7iDs3",
        "colab": {
          "base_uri": "https://localhost:8080/"
        },
        "outputId": "a2c1fc17-6d30-4d42-9be7-ac6d2b6fc659"
      },
      "outputs": [
        {
          "output_type": "execute_result",
          "data": {
            "text/plain": [
              "{'messages': [HumanMessage(content='what you know about Nawaz Sharif', additional_kwargs={}, response_metadata={}, id='19d1737e-c2de-43cf-9534-e590e3ba21c8'),\n",
              "  AIMessage(content=\"## Nawaz Sharif: A Controversial Figure in Pakistani Politics\\n\\nNawaz Sharif is a prominent figure in Pakistani politics, having served as Prime Minister three times (1990-93, 1997-99, and 2013-17). He is a controversial figure, known for his political acumen and economic reforms, but also for his involvement in corruption scandals and political turmoil.\\n\\n**Here's a breakdown of key aspects of his life and career:**\\n\\n**Early Life and Career:**\\n\\n* Born in 1949 in Lahore, Pakistan, into a wealthy business family.\\n* Entered politics in the 1980s, joining the Pakistan Muslim League (PML).\\n* Became Chief Minister of Punjab province in 1985, a position he held until 1990.\\n\\n**Prime Ministerships:**\\n\\n* **1990-93:** First time as Prime Minister, focused on economic reforms, including privatization and deregulation.\\n* **1997-99:** Second term saw further economic liberalization but was marked by political instability and a power struggle with the military.\\n* **2013-17:** Third term saw a focus on infrastructure development and social welfare programs. He was disqualified by the Supreme Court in 2017 due to the Panama Papers scandal.\\n\\n**Key Policies and Achievements:**\\n\\n* **Economic Reforms:** Introduced significant economic liberalization, including privatization and deregulation.\\n* **Infrastructure Development:** Focused on building roads, highways, and power plants.\\n* **Social Welfare Programs:** Implemented programs to improve healthcare and education.\\n\\n**Controversies and Challenges:**\\n\\n* **Corruption and Accountability:**  Accused of corruption and nepotism throughout his career, leading to multiple investigations and legal challenges.\\n* **Political Instability:** His terms were often marked by political instability and power struggles with the military.\\n* **Panama Papers Scandal:**  In 2017, he was disqualified from office due to his family's involvement in the Panama Papers scandal, which revealed offshore accounts.\\n* **Relationship with the Military:**  His relationship with the Pakistani military has been tumultuous, with accusations of interference in his government.\\n\\n**Current Status:**\\n\\n* Sharif remains a prominent figure in Pakistani politics despite his disqualification.\\n* He continues to be a vocal critic of the current government and is involved in various political activities.\\n* He has been imprisoned for corruption charges but was released on medical grounds in 2023. \\n\\n**Overall, Nawaz Sharif is a complex and controversial figure. While he has contributed to Pakistan's economic development, his legacy is stained by accusations of corruption and his volatile relationship with the military.** \\n\", additional_kwargs={}, response_metadata={'prompt_feedback': {'block_reason': 0, 'safety_ratings': []}, 'finish_reason': 'STOP', 'safety_ratings': [{'category': 'HARM_CATEGORY_SEXUALLY_EXPLICIT', 'probability': 'NEGLIGIBLE', 'blocked': False}, {'category': 'HARM_CATEGORY_HATE_SPEECH', 'probability': 'NEGLIGIBLE', 'blocked': False}, {'category': 'HARM_CATEGORY_HARASSMENT', 'probability': 'NEGLIGIBLE', 'blocked': False}, {'category': 'HARM_CATEGORY_DANGEROUS_CONTENT', 'probability': 'NEGLIGIBLE', 'blocked': False}]}, id='run-d72f6ff1-7fbf-4abd-90d0-80692575ba1c-0', usage_metadata={'input_tokens': 7, 'output_tokens': 563, 'total_tokens': 570})]}"
            ]
          },
          "metadata": {},
          "execution_count": 11
        }
      ],
      "source": [
        "graph.invoke({\"messages\": [\"what you know about Nawaz Sharif\"]})"
      ]
    },
    {
      "cell_type": "code",
      "execution_count": null,
      "metadata": {
        "colab": {
          "base_uri": "https://localhost:8080/"
        },
        "id": "v0ea9OcIkyjI",
        "outputId": "d1590140-2c04-40c6-91d0-a8c517c34447"
      },
      "outputs": [
        {
          "output_type": "stream",
          "name": "stdout",
          "text": [
            "Enter your message: how are you Abu Bakar\n",
            "dict_values([{'messages': AIMessage(content=\"As an AI, I don't have a name or personal experiences like Abu Bakar.  \\n\\nIf you're looking for information about Abu Bakr, the first caliph of Islam, I can provide you with some details. \\n\\nWhat would you like to know about him? \\n\", additional_kwargs={}, response_metadata={'prompt_feedback': {'block_reason': 0, 'safety_ratings': []}, 'finish_reason': 'STOP', 'safety_ratings': [{'category': 'HARM_CATEGORY_SEXUALLY_EXPLICIT', 'probability': 'NEGLIGIBLE', 'blocked': False}, {'category': 'HARM_CATEGORY_HATE_SPEECH', 'probability': 'NEGLIGIBLE', 'blocked': False}, {'category': 'HARM_CATEGORY_HARASSMENT', 'probability': 'NEGLIGIBLE', 'blocked': False}, {'category': 'HARM_CATEGORY_DANGEROUS_CONTENT', 'probability': 'NEGLIGIBLE', 'blocked': False}]}, id='run-4e184e11-dc70-4b2f-b933-98784d7cf96c-0', usage_metadata={'input_tokens': 6, 'output_tokens': 58, 'total_tokens': 64})}])\n",
            "AIMessage(content=\"As an AI, I don't have a name or personal experiences like Abu Bakar.  \\n\\nIf you're looking for information about Abu Bakr, the first caliph of Islam, I can provide you with some details. \\n\\nWhat would you like to know about him? \\n\", additional_kwargs={}, response_metadata={'prompt_feedback': {'block_reason': 0, 'safety_ratings': []}, 'finish_reason': 'STOP', 'safety_ratings': [{'category': 'HARM_CATEGORY_SEXUALLY_EXPLICIT', 'probability': 'NEGLIGIBLE', 'blocked': False}, {'category': 'HARM_CATEGORY_HATE_SPEECH', 'probability': 'NEGLIGIBLE', 'blocked': False}, {'category': 'HARM_CATEGORY_HARASSMENT', 'probability': 'NEGLIGIBLE', 'blocked': False}, {'category': 'HARM_CATEGORY_DANGEROUS_CONTENT', 'probability': 'NEGLIGIBLE', 'blocked': False}]}, id='run-4e184e11-dc70-4b2f-b933-98784d7cf96c-0', usage_metadata={'input_tokens': 6, 'output_tokens': 58, 'total_tokens': 64})\n",
            "Assistant:  As an AI, I don't have a name or personal experiences like Abu Bakar.  \n",
            "\n",
            "If you're looking for information about Abu Bakr, the first caliph of Islam, I can provide you with some details. \n",
            "\n",
            "What would you like to know about him? \n",
            "\n",
            "Enter your message: who is Abu Bakr\n",
            "dict_values([{'messages': AIMessage(content=\"Abu Bakr, also known as **Abu Bakr al-Siddiq**, was a highly influential figure in early Islam and is considered the **first caliph** (successor to the Prophet Muhammad). He played a crucial role in the development and spread of Islam, particularly in the early years after the Prophet's death.\\n\\nHere are some key points about Abu Bakr:\\n\\n* **Close Companion of Muhammad:** He was one of the Prophet's earliest and closest companions, known for his unwavering faith and loyalty. He was among the first to embrace Islam and played a significant role in supporting the Prophet during his mission.\\n* **First Caliph:** After the Prophet's death in 632 CE, Abu Bakr was elected as the first caliph by the Muslim community. He assumed leadership during a critical period, facing challenges like the apostasy of some tribes and the need to consolidate the nascent Muslim state.\\n* **Expansion of Islam:** Under Abu Bakr's caliphate, the Muslim community expanded significantly, conquering territories in Arabia and beyond. He led the Rashidun Caliphate (the first Islamic empire) in a series of successful military campaigns, including the conquest of Syria and Iraq.\\n* **Compilation of the Quran:** Abu Bakr played a vital role in preserving the Quran. He commissioned the compilation of the Quran into a single book, which had previously been memorized by the Prophet's companions and written on various materials.\\n* **Legacy:** Abu Bakr is revered by Muslims as a righteous leader and a close companion of the Prophet. His caliphate laid the foundation for the expansion of Islam and the establishment of the first Islamic state.\\n\\nIt's important to note that while Abu Bakr is a significant figure in Islamic history, his role and legacy are interpreted differently by various Islamic sects and scholars. Nevertheless, his contributions to the early development of Islam are widely acknowledged.\\n\", additional_kwargs={}, response_metadata={'prompt_feedback': {'block_reason': 0, 'safety_ratings': []}, 'finish_reason': 'STOP', 'safety_ratings': [{'category': 'HARM_CATEGORY_SEXUALLY_EXPLICIT', 'probability': 'NEGLIGIBLE', 'blocked': False}, {'category': 'HARM_CATEGORY_HATE_SPEECH', 'probability': 'NEGLIGIBLE', 'blocked': False}, {'category': 'HARM_CATEGORY_HARASSMENT', 'probability': 'NEGLIGIBLE', 'blocked': False}, {'category': 'HARM_CATEGORY_DANGEROUS_CONTENT', 'probability': 'NEGLIGIBLE', 'blocked': False}]}, id='run-32a61e12-47bb-49cc-a135-3e19d091b88e-0', usage_metadata={'input_tokens': 6, 'output_tokens': 389, 'total_tokens': 395})}])\n",
            "AIMessage(content=\"Abu Bakr, also known as **Abu Bakr al-Siddiq**, was a highly influential figure in early Islam and is considered the **first caliph** (successor to the Prophet Muhammad). He played a crucial role in the development and spread of Islam, particularly in the early years after the Prophet's death.\\n\\nHere are some key points about Abu Bakr:\\n\\n* **Close Companion of Muhammad:** He was one of the Prophet's earliest and closest companions, known for his unwavering faith and loyalty. He was among the first to embrace Islam and played a significant role in supporting the Prophet during his mission.\\n* **First Caliph:** After the Prophet's death in 632 CE, Abu Bakr was elected as the first caliph by the Muslim community. He assumed leadership during a critical period, facing challenges like the apostasy of some tribes and the need to consolidate the nascent Muslim state.\\n* **Expansion of Islam:** Under Abu Bakr's caliphate, the Muslim community expanded significantly, conquering territories in Arabia and beyond. He led the Rashidun Caliphate (the first Islamic empire) in a series of successful military campaigns, including the conquest of Syria and Iraq.\\n* **Compilation of the Quran:** Abu Bakr played a vital role in preserving the Quran. He commissioned the compilation of the Quran into a single book, which had previously been memorized by the Prophet's companions and written on various materials.\\n* **Legacy:** Abu Bakr is revered by Muslims as a righteous leader and a close companion of the Prophet. His caliphate laid the foundation for the expansion of Islam and the establishment of the first Islamic state.\\n\\nIt's important to note that while Abu Bakr is a significant figure in Islamic history, his role and legacy are interpreted differently by various Islamic sects and scholars. Nevertheless, his contributions to the early development of Islam are widely acknowledged.\\n\", additional_kwargs={}, response_metadata={'prompt_feedback': {'block_reason': 0, 'safety_ratings': []}, 'finish_reason': 'STOP', 'safety_ratings': [{'category': 'HARM_CATEGORY_SEXUALLY_EXPLICIT', 'probability': 'NEGLIGIBLE', 'blocked': False}, {'category': 'HARM_CATEGORY_HATE_SPEECH', 'probability': 'NEGLIGIBLE', 'blocked': False}, {'category': 'HARM_CATEGORY_HARASSMENT', 'probability': 'NEGLIGIBLE', 'blocked': False}, {'category': 'HARM_CATEGORY_DANGEROUS_CONTENT', 'probability': 'NEGLIGIBLE', 'blocked': False}]}, id='run-32a61e12-47bb-49cc-a135-3e19d091b88e-0', usage_metadata={'input_tokens': 6, 'output_tokens': 389, 'total_tokens': 395})\n",
            "Assistant:  Abu Bakr, also known as **Abu Bakr al-Siddiq**, was a highly influential figure in early Islam and is considered the **first caliph** (successor to the Prophet Muhammad). He played a crucial role in the development and spread of Islam, particularly in the early years after the Prophet's death.\n",
            "\n",
            "Here are some key points about Abu Bakr:\n",
            "\n",
            "* **Close Companion of Muhammad:** He was one of the Prophet's earliest and closest companions, known for his unwavering faith and loyalty. He was among the first to embrace Islam and played a significant role in supporting the Prophet during his mission.\n",
            "* **First Caliph:** After the Prophet's death in 632 CE, Abu Bakr was elected as the first caliph by the Muslim community. He assumed leadership during a critical period, facing challenges like the apostasy of some tribes and the need to consolidate the nascent Muslim state.\n",
            "* **Expansion of Islam:** Under Abu Bakr's caliphate, the Muslim community expanded significantly, conquering territories in Arabia and beyond. He led the Rashidun Caliphate (the first Islamic empire) in a series of successful military campaigns, including the conquest of Syria and Iraq.\n",
            "* **Compilation of the Quran:** Abu Bakr played a vital role in preserving the Quran. He commissioned the compilation of the Quran into a single book, which had previously been memorized by the Prophet's companions and written on various materials.\n",
            "* **Legacy:** Abu Bakr is revered by Muslims as a righteous leader and a close companion of the Prophet. His caliphate laid the foundation for the expansion of Islam and the establishment of the first Islamic state.\n",
            "\n",
            "It's important to note that while Abu Bakr is a significant figure in Islamic history, his role and legacy are interpreted differently by various Islamic sects and scholars. Nevertheless, his contributions to the early development of Islam are widely acknowledged.\n",
            "\n",
            "Enter your message: quite\n",
            "dict_values([{'messages': AIMessage(content='Please provide me with more context. What would you like me to do with the word \"quite\"? \\n\\nFor example:\\n\\n* **\"Quite\" what?**  Do you want me to complete a sentence? \\n* **\"Quite\" in what way?** Do you want me to explain the meaning of the word? \\n* **\"Quite\" for what purpose?** Do you want me to use the word in a sentence?\\n\\nLet me know, and I\\'ll be happy to help! \\n', additional_kwargs={}, response_metadata={'prompt_feedback': {'block_reason': 0, 'safety_ratings': []}, 'finish_reason': 'STOP', 'safety_ratings': [{'category': 'HARM_CATEGORY_SEXUALLY_EXPLICIT', 'probability': 'NEGLIGIBLE', 'blocked': False}, {'category': 'HARM_CATEGORY_HATE_SPEECH', 'probability': 'NEGLIGIBLE', 'blocked': False}, {'category': 'HARM_CATEGORY_HARASSMENT', 'probability': 'NEGLIGIBLE', 'blocked': False}, {'category': 'HARM_CATEGORY_DANGEROUS_CONTENT', 'probability': 'NEGLIGIBLE', 'blocked': False}]}, id='run-0763d880-fc04-4222-a4a4-0f51eb1afdbf-0', usage_metadata={'input_tokens': 2, 'output_tokens': 106, 'total_tokens': 108})}])\n",
            "AIMessage(content='Please provide me with more context. What would you like me to do with the word \"quite\"? \\n\\nFor example:\\n\\n* **\"Quite\" what?**  Do you want me to complete a sentence? \\n* **\"Quite\" in what way?** Do you want me to explain the meaning of the word? \\n* **\"Quite\" for what purpose?** Do you want me to use the word in a sentence?\\n\\nLet me know, and I\\'ll be happy to help! \\n', additional_kwargs={}, response_metadata={'prompt_feedback': {'block_reason': 0, 'safety_ratings': []}, 'finish_reason': 'STOP', 'safety_ratings': [{'category': 'HARM_CATEGORY_SEXUALLY_EXPLICIT', 'probability': 'NEGLIGIBLE', 'blocked': False}, {'category': 'HARM_CATEGORY_HATE_SPEECH', 'probability': 'NEGLIGIBLE', 'blocked': False}, {'category': 'HARM_CATEGORY_HARASSMENT', 'probability': 'NEGLIGIBLE', 'blocked': False}, {'category': 'HARM_CATEGORY_DANGEROUS_CONTENT', 'probability': 'NEGLIGIBLE', 'blocked': False}]}, id='run-0763d880-fc04-4222-a4a4-0f51eb1afdbf-0', usage_metadata={'input_tokens': 2, 'output_tokens': 106, 'total_tokens': 108})\n",
            "Assistant:  Please provide me with more context. What would you like me to do with the word \"quite\"? \n",
            "\n",
            "For example:\n",
            "\n",
            "* **\"Quite\" what?**  Do you want me to complete a sentence? \n",
            "* **\"Quite\" in what way?** Do you want me to explain the meaning of the word? \n",
            "* **\"Quite\" for what purpose?** Do you want me to use the word in a sentence?\n",
            "\n",
            "Let me know, and I'll be happy to help! \n",
            "\n",
            "Enter your message: Quit\n",
            "'Good Bye...'\n"
          ]
        }
      ],
      "source": [
        "from threading import Event\n",
        "from pprint import pprint\n",
        "while True:\n",
        "  user_input = input(\"Enter your message: \")\n",
        "  if user_input.lower() in [\"exit\", \"quit\"]:\n",
        "    pprint(\"Good Bye...\")\n",
        "    break\n",
        "  for event in graph.stream({\"messages\": (\"user\",user_input)}):\n",
        "    pprint(event.values())\n",
        "    for value in event.values():\n",
        "      pprint(value[\"messages\"])\n",
        "      print(\"Assistant: \",value[\"messages\"].content)\n",
        "\n"
      ]
    }
  ],
  "metadata": {
    "colab": {
      "provenance": []
    },
    "kernelspec": {
      "display_name": "Python 3",
      "name": "python3"
    },
    "language_info": {
      "name": "python"
    }
  },
  "nbformat": 4,
  "nbformat_minor": 0
}