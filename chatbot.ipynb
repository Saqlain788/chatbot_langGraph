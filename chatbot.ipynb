{
  "cells": [
    {
      "cell_type": "markdown",
      "source": [
        "# Quick Start\n",
        "\n",
        "In this comprehensive quick start, we will build a support chatbot in LangGraph that can:\n",
        "\n",
        "- Answer common questions by searching the web\n",
        "- Maintain conversation state across calls\n",
        "- Route complex queries to a human for review\n",
        "- Use custom state to control its behavior\n",
        "- Rewind and explore alternative conversation paths\n",
        "\n",
        "We'll start with a basic chatbot and progressively add more sophisticated capabilities, introducing key LangGraph concepts along the way.\n",
        "\n",
        "## Setup\n",
        "\n",
        "First, install the required packages:"
      ],
      "metadata": {
        "id": "CJHVKN5WSrQ3"
      }
    },
    {
      "cell_type": "code",
      "execution_count": 84,
      "metadata": {
        "id": "VFllzfziYKpc"
      },
      "outputs": [],
      "source": [
        "%%capture --no-stderr\n",
        "!pip install langchain langchain-google-genai langgraph"
      ]
    },
    {
      "cell_type": "code",
      "execution_count": 85,
      "metadata": {
        "id": "Q3iRjP36Zbnr"
      },
      "outputs": [],
      "source": [
        "from google.colab import userdata\n",
        "GEMINI_API_KEY = userdata.get(\"GEMINI_API_KEY\")"
      ]
    },
    {
      "cell_type": "code",
      "source": [
        "import os\n",
        "os.environ[\"LANGCHAIN_API_KEY\"] = userdata.get('LANGCHAIN_API_KEY')\n",
        "os.environ[\"LANGCHAIN_TRACING_V2\"] = \"true\"\n",
        "os.environ[\"LANGCHAIN_PROJECT\"] = \"chatbot01\""
      ],
      "metadata": {
        "id": "ZvUS1CfBTV-e"
      },
      "execution_count": 3,
      "outputs": []
    },
    {
      "cell_type": "code",
      "execution_count": 44,
      "metadata": {
        "id": "jG9OxbFcZuyS"
      },
      "outputs": [],
      "source": [
        "from langchain_google_genai import ChatGoogleGenerativeAI\n",
        "llm: ChatGoogleGenerativeAI = ChatGoogleGenerativeAI (\n",
        "  api_key=GEMINI_API_KEY, max_retries = 2, model=\"gemini-1.5-flash\")"
      ]
    },
    {
      "cell_type": "code",
      "execution_count": 45,
      "metadata": {
        "colab": {
          "base_uri": "https://localhost:8080/"
        },
        "id": "9yPo-Ysla6FC",
        "outputId": "6509660d-8565-413e-f081-8d724e622a6b"
      },
      "outputs": [
        {
          "output_type": "execute_result",
          "data": {
            "text/plain": [
              "AIMessage(content='Hello Saqlai, how are you doing today? \\n', additional_kwargs={}, response_metadata={'prompt_feedback': {'block_reason': 0, 'safety_ratings': []}, 'finish_reason': 'STOP', 'safety_ratings': [{'category': 'HARM_CATEGORY_SEXUALLY_EXPLICIT', 'probability': 'NEGLIGIBLE', 'blocked': False}, {'category': 'HARM_CATEGORY_HATE_SPEECH', 'probability': 'NEGLIGIBLE', 'blocked': False}, {'category': 'HARM_CATEGORY_HARASSMENT', 'probability': 'NEGLIGIBLE', 'blocked': False}, {'category': 'HARM_CATEGORY_DANGEROUS_CONTENT', 'probability': 'NEGLIGIBLE', 'blocked': False}]}, id='run-b72017e9-61e1-436b-868b-d647686ab261-0', usage_metadata={'input_tokens': 7, 'output_tokens': 11, 'total_tokens': 18, 'input_token_details': {'cache_read': 0}})"
            ]
          },
          "metadata": {},
          "execution_count": 45
        }
      ],
      "source": [
        "llm.invoke(\"greet me, Saqlai\")"
      ]
    },
    {
      "cell_type": "markdown",
      "metadata": {
        "id": "LVdcGJv0cCaU"
      },
      "source": [
        "## Start Building Chatbot using LangGraph\n",
        "## Part 1: Build a Basic Chatbot\n",
        "\n",
        "We'll first create a simple chatbot using LangGraph. This chatbot will respond directly to user messages. Though simple, it will illustrate the core concepts of building with LangGraph. By the end of this section, you will have a built rudimentary chatbot.\n",
        "\n",
        "Start by creating a `StateGraph`. A `StateGraph` object defines the structure of our chatbot as a \"state machine\". We'll add `nodes` to represent the llm and functions our chatbot can call and `edges` to specify how the bot should transition between these functions."
      ]
    },
    {
      "cell_type": "code",
      "execution_count": 8,
      "metadata": {
        "id": "cCzdILW3bMQ6"
      },
      "outputs": [],
      "source": [
        "from typing import Annotated\n",
        "\n",
        "from typing_extensions import TypedDict\n",
        "from langgraph.graph import StateGraph, START, END\n",
        "from langgraph.graph.message import add_messages\n",
        "from langgraph.graph.state import CompiledStateGraph\n",
        "\n",
        "class State(TypedDict):\n",
        "  messages: Annotated[list,add_messages]\n"
      ]
    },
    {
      "cell_type": "code",
      "source": [
        "new_message_1 = [{\"role\":\"user\",\"content\":\"Hello, how are you?\"}]\n",
        "new_message_2 = [{\"role\":\"ai\",\"content\":\"Hi there?\"}]\n",
        "messages = add_messages(new_message_1,new_message_2)"
      ],
      "metadata": {
        "id": "coLb4kvQVhGS"
      },
      "execution_count": 9,
      "outputs": []
    },
    {
      "cell_type": "code",
      "source": [
        "print(messages)"
      ],
      "metadata": {
        "colab": {
          "base_uri": "https://localhost:8080/"
        },
        "id": "xMswWyRnWEJ8",
        "outputId": "06e582de-3355-4765-ee8e-37ab3c94c96a"
      },
      "execution_count": 10,
      "outputs": [
        {
          "output_type": "stream",
          "name": "stdout",
          "text": [
            "[HumanMessage(content='Hello, how are you?', additional_kwargs={}, response_metadata={}, id='61c34bfd-8d13-4009-a324-f67141c70f7f'), AIMessage(content='Hi there?', additional_kwargs={}, response_metadata={}, id='391f865d-e2cb-4af1-8b5d-61e469435ed9')]\n"
          ]
        }
      ]
    },
    {
      "cell_type": "code",
      "execution_count": 59,
      "metadata": {
        "id": "8CMZtSjWbhr5"
      },
      "outputs": [],
      "source": [
        "def chatbot(state:State) -> State:\n",
        "  res = [llm.invoke(state[\"messages\"])]\n",
        "  return {\"messages\": res}"
      ]
    },
    {
      "cell_type": "code",
      "execution_count": 60,
      "metadata": {
        "colab": {
          "base_uri": "https://localhost:8080/"
        },
        "id": "JzUi3gQDeGgh",
        "outputId": "d710da4b-ef00-4725-9c70-55c134caa871"
      },
      "outputs": [
        {
          "output_type": "execute_result",
          "data": {
            "text/plain": [
              "<langgraph.graph.state.StateGraph at 0x7a7ae1251900>"
            ]
          },
          "metadata": {},
          "execution_count": 60
        }
      ],
      "source": [
        "builder : StateGraph = StateGraph(State)\n",
        "# create chatbot Node\n",
        "builder.add_node(\"chatbot\", chatbot)\n",
        "# create edge\n",
        "builder.add_edge(START, \"chatbot\")\n",
        "builder.add_edge(\"chatbot\", END)"
      ]
    },
    {
      "cell_type": "code",
      "execution_count": 61,
      "metadata": {
        "id": "MRHqLNjYhrZK"
      },
      "outputs": [],
      "source": [
        "graph : CompiledStateGraph = builder.compile()"
      ]
    },
    {
      "cell_type": "code",
      "execution_count": 62,
      "metadata": {
        "colab": {
          "base_uri": "https://localhost:8080/",
          "height": 251
        },
        "id": "Szm6qOLRhv-A",
        "outputId": "4b78c2f8-e21d-4e50-d011-19f74a926abd"
      },
      "outputs": [
        {
          "output_type": "display_data",
          "data": {
            "image/jpeg": "[encoded data removed]",
            "text/plain": [
              "<IPython.core.display.Image object>"
            ]
          },
          "metadata": {}
        }
      ],
      "source": [
        "from IPython.display import display, Image\n",
        "try:\n",
        "  display(Image(graph.get_graph().draw_mermaid_png()))\n",
        "except Exception:\n",
        "  pass"
      ]
    },
    {
      "cell_type": "code",
      "execution_count": 63,
      "metadata": {
        "id": "t0YX_3k7iDs3",
        "colab": {
          "base_uri": "https://localhost:8080/"
        },
        "outputId": "da3be839-8687-47d9-b6f8-4526d8969ac7"
      },
      "outputs": [
        {
          "output_type": "execute_result",
          "data": {
            "text/plain": [
              "{'messages': [HumanMessage(content='what you know about Imran Khan', additional_kwargs={}, response_metadata={}, id='e1bf6327-4c1c-40be-ba49-4844f3bd5af8'),\n",
              "  AIMessage(content=\"## Imran Khan: A Complex Figure\\n\\nImran Khan is a Pakistani politician who served as the 22nd Prime Minister of Pakistan from 2018 to 2022. He is a controversial figure, known for his charisma, his cricketing achievements, and his political stances. \\n\\nHere's a breakdown of what is widely known about him:\\n\\n**Early Life and Career:**\\n\\n* Born in 1952, Khan was a renowned cricketer, leading Pakistan to victory in the 1992 Cricket World Cup. \\n* He retired from cricket in 1992 and founded the Pakistan Tehreek-e-Insaf (PTI) political party in 1996.\\n\\n**Political Career:**\\n\\n* Khan's political career has been marked by both successes and failures. He has been a vocal critic of corruption and has campaigned for social justice and economic development.\\n* He led PTI to victory in the 2018 general election, becoming Prime Minister.\\n* His tenure was marked by economic challenges, political instability, and tensions with the military.\\n* In 2022, he was removed from office through a no-confidence vote, leading to protests and political turmoil.\\n\\n**Key Beliefs and Policies:**\\n\\n* **Anti-Corruption:** Khan has been a strong advocate for fighting corruption in Pakistan, a key issue for many citizens.\\n* **Economic Development:** He has focused on promoting economic growth and improving infrastructure.\\n* **Foreign Policy:** He has attempted to navigate a complex foreign policy landscape, seeking to improve relations with neighboring countries and maintain a balance between regional powers.\\n\\n**Controversies and Criticisms:**\\n\\n* **Authoritarianism:** Khan has been accused of undermining democratic institutions and promoting authoritarianism.\\n* **Economic Mismanagement:** His government faced criticism for its handling of the economy, particularly during the COVID-19 pandemic.\\n* **Relationship with the Military:** His relationship with Pakistan's powerful military has been complex and often strained.\\n\\n**Current Situation:**\\n\\n* Khan currently remains a powerful figure in Pakistani politics, despite his removal from office.\\n* He continues to lead PTI and remains a vocal critic of the current government.\\n* He faces multiple legal challenges related to his time in office, including accusations of corruption.\\n\\n**Overall:**\\n\\nImran Khan is a complex and polarizing figure. He has achieved significant political success but also faces significant criticism. His legacy will likely be debated for years to come.\\n\\nIt's important to note that these are just some of the key aspects of Imran Khan's life and career. There is much more to learn about him, and it is essential to consider diverse perspectives when forming an opinion about him. \\n\", additional_kwargs={}, response_metadata={'prompt_feedback': {'block_reason': 0, 'safety_ratings': []}, 'finish_reason': 'STOP', 'safety_ratings': [{'category': 'HARM_CATEGORY_SEXUALLY_EXPLICIT', 'probability': 'NEGLIGIBLE', 'blocked': False}, {'category': 'HARM_CATEGORY_HATE_SPEECH', 'probability': 'NEGLIGIBLE', 'blocked': False}, {'category': 'HARM_CATEGORY_HARASSMENT', 'probability': 'NEGLIGIBLE', 'blocked': False}, {'category': 'HARM_CATEGORY_DANGEROUS_CONTENT', 'probability': 'NEGLIGIBLE', 'blocked': False}]}, id='run-4da00936-bdd1-47e6-a27f-8e6ca85d2d42-0', usage_metadata={'input_tokens': 7, 'output_tokens': 563, 'total_tokens': 570, 'input_token_details': {'cache_read': 0}})]}"
            ]
          },
          "metadata": {},
          "execution_count": 63
        }
      ],
      "source": [
        "graph.invoke({\"messages\": [{\"role\": \"user\", \"content\": \"what you know about Imran Khan\"}]})"
      ]
    },
    {
      "cell_type": "code",
      "source": [
        "for event in graph.stream({\"messages\": [(\"user\", \"I am Saqlain\")]}):\n",
        "  print(\"EVENT:\", list(event.values())[0][\"messages\"][-1].content)"
      ],
      "metadata": {
        "colab": {
          "base_uri": "https://localhost:8080/"
        },
        "id": "MrMQuoALdh5i",
        "outputId": "167f22b7-5044-48b5-bbb1-4c8708b4d534"
      },
      "execution_count": 64,
      "outputs": [
        {
          "output_type": "stream",
          "name": "stdout",
          "text": [
            "EVENT: Hello Saqlain! It's nice to meet you. What can I do for you today? \n",
            "\n"
          ]
        }
      ]
    },
    {
      "cell_type": "code",
      "execution_count": 68,
      "metadata": {
        "id": "v0ea9OcIkyjI"
      },
      "outputs": [],
      "source": [
        "# # from threading import Event\n",
        "# from pprint import pprint\n",
        "# while True:\n",
        "#   user_input = input(\"Enter your message: \")\n",
        "#   if user_input.lower() in [\"exit\", \"quit\"]:\n",
        "#     pprint(\"Good Bye...\")\n",
        "#     break\n",
        "#   for event in graph.stream({\"messages\": (\"user\",user_input)}):\n",
        "#     pprint(event.values())\n",
        "#     for value in event.values():\n",
        "#       pprint(value[\"messages\"])\n",
        "#       print(\"Assistant: \", value[\"messages\"].content)\n",
        "\n"
      ]
    },
    {
      "cell_type": "code",
      "source": [
        "def stream_graph_updates(user_input: str):\n",
        "    for event in graph.stream({\"messages\": [(\"user\", user_input)]}):\n",
        "        for value in event.values():\n",
        "            print(\"Assistant:\", value[\"messages\"][-1].content)\n",
        "\n",
        "while True:\n",
        "    try:\n",
        "        user_input = input(\"Enter your message: \")\n",
        "        if user_input.lower() in [\"quit\", \"exit\", \"q\", \"e\"]:\n",
        "            print(\"Goodbye!\")\n",
        "            break\n",
        "        stream_graph_updates(user_input)\n",
        "    except:\n",
        "        # fallback if input() is not available\n",
        "        user_input = \"What do you know about Imran Khan?\"\n",
        "        print(\"Enter your message: \" + user_input)\n",
        "        stream_graph_updates(user_input)\n",
        "        break"
      ],
      "metadata": {
        "colab": {
          "base_uri": "https://localhost:8080/"
        },
        "id": "tVi9RgdkmTQM",
        "outputId": "a7fa9908-e3f6-477c-f780-3a96b8a9aaa8"
      },
      "execution_count": 70,
      "outputs": [
        {
          "output_type": "stream",
          "name": "stdout",
          "text": [
            "Enter your message: e\n",
            "Goodbye!\n"
          ]
        }
      ]
    },
    {
      "cell_type": "markdown",
      "source": [
        "## Part 2: Enhancing the Chatbot with Tools\n",
        "\n",
        "To handle queries our chatbot can't answer \"from memory\", we'll integrate a web search tool. Our bot can use this tool to find relevant information and provide better responses.\n",
        "\n",
        "#### Requirements\n",
        "\n",
        "Before we start, make sure you have the necessary packages installed and API keys set up:\n",
        "\n",
        "First, install the requirements to use the [Tavily Search Engine](https://python.langchain.com/docs/integrations/tools/tavily_search/), and set your [TAVILY_API_KEY](https://tavily.com/)."
      ],
      "metadata": {
        "id": "hlLoMAo9rQ7d"
      }
    },
    {
      "cell_type": "code",
      "source": [
        "%%capture --no-stderr\n",
        "%pip install -U tavily-python langchain_community"
      ],
      "metadata": {
        "id": "ZA2mH1m9rR26"
      },
      "execution_count": 71,
      "outputs": []
    },
    {
      "cell_type": "code",
      "source": [
        "os.environ[\"TAVILY_API_KEY\"] = userdata.get(\"TAVILY_API_KEY\")"
      ],
      "metadata": {
        "id": "OwgEUNePsCd9"
      },
      "execution_count": 72,
      "outputs": []
    },
    {
      "cell_type": "code",
      "source": [
        "from langchain_community.tools.tavily_search import TavilySearchResults\n",
        "\n",
        "search_tool = TavilySearchResults(max_results=2)\n",
        "tools = [search_tool]\n",
        "search_tool.invoke(\"What'is LangGraph?\")"
      ],
      "metadata": {
        "colab": {
          "base_uri": "https://localhost:8080/"
        },
        "id": "8sv-ixkZsXJI",
        "outputId": "b526d474-e866-4be5-ffaa-f0d85d81a82c"
      },
      "execution_count": 74,
      "outputs": [
        {
          "output_type": "execute_result",
          "data": {
            "text/plain": [
              "[{'url': 'https://www.datacamp.com/tutorial/langgraph-tutorial',\n",
              "  'content': 'LangGraph is a library within the LangChain ecosystem designed to tackle these challenges head-on. LangGraph provides a framework for defining, coordinating, and executing multiple LLM agents (or chains) in a structured manner. It simplifies the development process by enabling the creation of cyclical graphs, which are essential for developing'},\n",
              " {'url': 'https://cobusgreyling.medium.com/langgraph-from-langchain-explained-in-simple-terms-f7cd0c12cdbf',\n",
              "  'content': 'LangGraph is a module built on top of LangChain to better enable creation of cyclical graphs, often needed for agent runtimes. One of the big value props of LangChain is the ability to easily create custom chains, also known as flow engineering. Combining LangGraph with LangChain agents, agents can be both directed and cyclic.'}]"
            ]
          },
          "metadata": {},
          "execution_count": 74
        }
      ]
    },
    {
      "cell_type": "markdown",
      "source": [
        "The results are page summaries our chat bot can use to answer questions.\n",
        "\n",
        "\n",
        "Next, we'll start defining our graph. The following is all **the same as in Part 1**, except we have added `bind_tools` on our LLM. This lets the LLM know the correct JSON format to use if it wants to use our search engine."
      ],
      "metadata": {
        "id": "paaBllEDu2Vw"
      }
    },
    {
      "cell_type": "code",
      "source": [
        "from typing import Annotated\n",
        "\n",
        "from typing_extensions import TypedDict\n",
        "\n",
        "from langgraph.graph import StateGraph, START, END\n",
        "from langgraph.graph.message import add_messages\n",
        "\n",
        "\n",
        "class State(TypedDict):\n",
        "    messages: Annotated[list, add_messages]\n",
        "\n",
        "\n",
        "graph_builder = StateGraph(State)\n",
        "\n",
        "\n",
        "# Modification: tell the LLM which tools it can call\n",
        "llm_with_tools = llm.bind_tools(tools)\n",
        "\n",
        "\n"
      ],
      "metadata": {
        "id": "DCzt078Lu24C"
      },
      "execution_count": 76,
      "outputs": []
    },
    {
      "cell_type": "code",
      "source": [
        "def chatbot(state: State):\n",
        "    return {\"messages\": [llm_with_tools.invoke(state[\"messages\"])]}\n",
        "\n",
        "\n",
        "graph_builder.add_node(\"chatbot\", chatbot)"
      ],
      "metadata": {
        "colab": {
          "base_uri": "https://localhost:8080/"
        },
        "id": "ZK6ztakIvOem",
        "outputId": "684dd0bc-c119-4b3d-86b5-a20eebecfae1"
      },
      "execution_count": 77,
      "outputs": [
        {
          "output_type": "execute_result",
          "data": {
            "text/plain": [
              "<langgraph.graph.state.StateGraph at 0x7a7acfa742b0>"
            ]
          },
          "metadata": {},
          "execution_count": 77
        }
      ]
    },
    {
      "cell_type": "code",
      "source": [
        "llm.invoke(\"say hello to class\")\n"
      ],
      "metadata": {
        "colab": {
          "base_uri": "https://localhost:8080/"
        },
        "id": "6jldGmfZvXZj",
        "outputId": "d2565d34-28fe-4755-f0c0-5cffc46b195f"
      },
      "execution_count": 81,
      "outputs": [
        {
          "output_type": "execute_result",
          "data": {
            "text/plain": [
              "AIMessage(content=\"Hello everyone! It's great to be here with you all today. \\n\", additional_kwargs={}, response_metadata={'prompt_feedback': {'block_reason': 0, 'safety_ratings': []}, 'finish_reason': 'STOP', 'safety_ratings': [{'category': 'HARM_CATEGORY_SEXUALLY_EXPLICIT', 'probability': 'NEGLIGIBLE', 'blocked': False}, {'category': 'HARM_CATEGORY_HATE_SPEECH', 'probability': 'NEGLIGIBLE', 'blocked': False}, {'category': 'HARM_CATEGORY_HARASSMENT', 'probability': 'NEGLIGIBLE', 'blocked': False}, {'category': 'HARM_CATEGORY_DANGEROUS_CONTENT', 'probability': 'NEGLIGIBLE', 'blocked': False}]}, id='run-ebf8e8c4-52b1-4da6-aca2-831d6c43ac59-0', usage_metadata={'input_tokens': 5, 'output_tokens': 15, 'total_tokens': 20, 'input_token_details': {'cache_read': 0}})"
            ]
          },
          "metadata": {},
          "execution_count": 81
        }
      ]
    },
    {
      "cell_type": "code",
      "source": [
        "llm_with_tools.invoke(\"search who is winning candidate for us 2024 election in us\")"
      ],
      "metadata": {
        "colab": {
          "base_uri": "https://localhost:8080/"
        },
        "id": "uKMqi5KTvYgR",
        "outputId": "c2b9557a-98a6-4611-9ada-83f3710f105e"
      },
      "execution_count": 80,
      "outputs": [
        {
          "output_type": "execute_result",
          "data": {
            "text/plain": [
              "AIMessage(content='', additional_kwargs={'function_call': {'name': 'tavily_search_results_json', 'arguments': '{\"query\": \"who is winning candidate for us 2024 election in us\"}'}}, response_metadata={'prompt_feedback': {'block_reason': 0, 'safety_ratings': []}, 'finish_reason': 'STOP', 'safety_ratings': [{'category': 'HARM_CATEGORY_DANGEROUS_CONTENT', 'probability': 'NEGLIGIBLE', 'blocked': False}, {'category': 'HARM_CATEGORY_SEXUALLY_EXPLICIT', 'probability': 'NEGLIGIBLE', 'blocked': False}, {'category': 'HARM_CATEGORY_HATE_SPEECH', 'probability': 'NEGLIGIBLE', 'blocked': False}, {'category': 'HARM_CATEGORY_HARASSMENT', 'probability': 'NEGLIGIBLE', 'blocked': False}]}, id='run-9c0e2f7a-3b0b-46e2-910c-c1206c3c54aa-0', tool_calls=[{'name': 'tavily_search_results_json', 'args': {'query': 'who is winning candidate for us 2024 election in us'}, 'id': '54753550-38eb-4000-95b9-12e15e24ab15', 'type': 'tool_call'}], usage_metadata={'input_tokens': 89, 'output_tokens': 33, 'total_tokens': 122, 'input_token_details': {'cache_read': 0}})"
            ]
          },
          "metadata": {},
          "execution_count": 80
        }
      ]
    },
    {
      "cell_type": "code",
      "source": [
        "from typing import Annotated\n",
        "\n",
        "from langchain_community.tools.tavily_search import TavilySearchResults\n",
        "from langchain_core.messages import BaseMessage\n",
        "from typing_extensions import TypedDict\n",
        "from langgraph.graph import StateGraph, START, END\n",
        "from langgraph.graph.message import add_messages\n",
        "\n",
        "from langgraph.prebuilt import ToolNode, tools_condition\n",
        "\n",
        "\n",
        "class State(TypedDict):\n",
        "    messages: Annotated[list, add_messages]\n",
        "\n",
        "\n",
        "graph_builder = StateGraph(State)\n",
        "\n",
        "\n",
        "tool = TavilySearchResults(max_results=2)\n",
        "tools = [tool]\n",
        "llm_with_tools = llm.bind_tools(tools)\n",
        "\n",
        "\n",
        "def chatbot(state: State):\n",
        "    return {\"messages\": [llm_with_tools.invoke(state[\"messages\"])]}\n",
        "\n",
        "\n",
        "graph_builder.add_node(\"chatbot\", chatbot)\n",
        "\n",
        "tool_node = ToolNode(tools=[tool])\n",
        "graph_builder.add_node(\"tools\", tool_node)\n",
        "\n",
        "graph_builder.add_conditional_edges(\n",
        "    \"chatbot\",\n",
        "    tools_condition,\n",
        ")\n",
        "# Any time a tool is called, we return to the chatbot to decide the next step\n",
        "graph_builder.add_edge(\"tools\", \"chatbot\")\n",
        "graph_builder.add_edge(START, \"chatbot\")"
      ],
      "metadata": {
        "colab": {
          "base_uri": "https://localhost:8080/"
        },
        "id": "1vxtLVX4vcwF",
        "outputId": "d2e554a3-f718-44bb-d4a4-24d5c1e658f5"
      },
      "execution_count": 86,
      "outputs": [
        {
          "output_type": "execute_result",
          "data": {
            "text/plain": [
              "<langgraph.graph.state.StateGraph at 0x7a7acf895b40>"
            ]
          },
          "metadata": {},
          "execution_count": 86
        }
      ]
    },
    {
      "cell_type": "code",
      "source": [],
      "metadata": {
        "id": "LJRhBYu7xirP"
      },
      "execution_count": null,
      "outputs": []
    }
  ],
  "metadata": {
    "colab": {
      "provenance": []
    },
    "kernelspec": {
      "display_name": "Python 3",
      "name": "python3"
    },
    "language_info": {
      "name": "python"
    }
  },
  "nbformat": 4,
  "nbformat_minor": 0
}