{
  "cells": [
    {
      "cell_type": "markdown",
      "source": [
        "# Quick Start\n",
        "\n",
        "In this comprehensive quick start, we will build a support chatbot in LangGraph that can:\n",
        "\n",
        "- Answer common questions by searching the web\n",
        "- Maintain conversation state across calls\n",
        "- Route complex queries to a human for review\n",
        "- Use custom state to control its behavior\n",
        "- Rewind and explore alternative conversation paths\n",
        "\n",
        "We'll start with a basic chatbot and progressively add more sophisticated capabilities, introducing key LangGraph concepts along the way.\n",
        "\n",
        "## Setup\n",
        "\n",
        "First, install the required packages:"
      ],
      "metadata": {
        "id": "CJHVKN5WSrQ3"
      }
    },
    {
      "cell_type": "code",
      "execution_count": 1,
      "metadata": {
        "id": "VFllzfziYKpc"
      },
      "outputs": [],
      "source": [
        "%%capture --no-stderr\n",
        "!pip install langchain langchain-google-genai langgraph"
      ]
    },
    {
      "cell_type": "code",
      "execution_count": 2,
      "metadata": {
        "id": "Q3iRjP36Zbnr"
      },
      "outputs": [],
      "source": [
        "from google.colab import userdata\n",
        "GEMINI_API_KEY = userdata.get(\"GEMINI_API_KEY\")"
      ]
    },
    {
      "cell_type": "code",
      "source": [
        "import os\n",
        "os.environ[\"LANGCHAIN_API_KEY\"] = userdata.get('LANGCHAIN_API_KEY')\n",
        "os.environ[\"LANGCHAIN_TRACING_V2\"] = \"true\"\n",
        "os.environ[\"LANGCHAIN_PROJECT\"] = \"chatbot01\""
      ],
      "metadata": {
        "id": "ZvUS1CfBTV-e"
      },
      "execution_count": 3,
      "outputs": []
    },
    {
      "cell_type": "code",
      "execution_count": 44,
      "metadata": {
        "id": "jG9OxbFcZuyS"
      },
      "outputs": [],
      "source": [
        "from langchain_google_genai import ChatGoogleGenerativeAI\n",
        "llm: ChatGoogleGenerativeAI = ChatGoogleGenerativeAI (\n",
        "  api_key=GEMINI_API_KEY, max_retries = 2, model=\"gemini-1.5-flash\")"
      ]
    },
    {
      "cell_type": "code",
      "execution_count": 45,
      "metadata": {
        "colab": {
          "base_uri": "https://localhost:8080/"
        },
        "id": "9yPo-Ysla6FC",
        "outputId": "6509660d-8565-413e-f081-8d724e622a6b"
      },
      "outputs": [
        {
          "output_type": "execute_result",
          "data": {
            "text/plain": [
              "AIMessage(content='Hello Saqlai, how are you doing today? \\n', additional_kwargs={}, response_metadata={'prompt_feedback': {'block_reason': 0, 'safety_ratings': []}, 'finish_reason': 'STOP', 'safety_ratings': [{'category': 'HARM_CATEGORY_SEXUALLY_EXPLICIT', 'probability': 'NEGLIGIBLE', 'blocked': False}, {'category': 'HARM_CATEGORY_HATE_SPEECH', 'probability': 'NEGLIGIBLE', 'blocked': False}, {'category': 'HARM_CATEGORY_HARASSMENT', 'probability': 'NEGLIGIBLE', 'blocked': False}, {'category': 'HARM_CATEGORY_DANGEROUS_CONTENT', 'probability': 'NEGLIGIBLE', 'blocked': False}]}, id='run-b72017e9-61e1-436b-868b-d647686ab261-0', usage_metadata={'input_tokens': 7, 'output_tokens': 11, 'total_tokens': 18, 'input_token_details': {'cache_read': 0}})"
            ]
          },
          "metadata": {},
          "execution_count": 45
        }
      ],
      "source": [
        "llm.invoke(\"greet me, Saqlai\")"
      ]
    },
    {
      "cell_type": "markdown",
      "metadata": {
        "id": "LVdcGJv0cCaU"
      },
      "source": [
        "## Start Building Chatbot using LangGraph\n",
        "## Part 1: Build a Basic Chatbot\n",
        "\n",
        "We'll first create a simple chatbot using LangGraph. This chatbot will respond directly to user messages. Though simple, it will illustrate the core concepts of building with LangGraph. By the end of this section, you will have a built rudimentary chatbot.\n",
        "\n",
        "Start by creating a `StateGraph`. A `StateGraph` object defines the structure of our chatbot as a \"state machine\". We'll add `nodes` to represent the llm and functions our chatbot can call and `edges` to specify how the bot should transition between these functions."
      ]
    },
    {
      "cell_type": "code",
      "execution_count": 8,
      "metadata": {
        "id": "cCzdILW3bMQ6"
      },
      "outputs": [],
      "source": [
        "from typing import Annotated\n",
        "\n",
        "from typing_extensions import TypedDict\n",
        "from langgraph.graph import StateGraph, START, END\n",
        "from langgraph.graph.message import add_messages\n",
        "from langgraph.graph.state import CompiledStateGraph\n",
        "\n",
        "class State(TypedDict):\n",
        "  messages: Annotated[list,add_messages]\n"
      ]
    },
    {
      "cell_type": "code",
      "source": [
        "new_message_1 = [{\"role\":\"user\",\"content\":\"Hello, how are you?\"}]\n",
        "new_message_2 = [{\"role\":\"ai\",\"content\":\"Hi there?\"}]\n",
        "messages = add_messages(new_message_1,new_message_2)"
      ],
      "metadata": {
        "id": "coLb4kvQVhGS"
      },
      "execution_count": 9,
      "outputs": []
    },
    {
      "cell_type": "code",
      "source": [
        "print(messages)"
      ],
      "metadata": {
        "id": "xMswWyRnWEJ8",
        "outputId": "06e582de-3355-4765-ee8e-37ab3c94c96a",
        "colab": {
          "base_uri": "https://localhost:8080/"
        }
      },
      "execution_count": 10,
      "outputs": [
        {
          "output_type": "stream",
          "name": "stdout",
          "text": [
            "[HumanMessage(content='Hello, how are you?', additional_kwargs={}, response_metadata={}, id='61c34bfd-8d13-4009-a324-f67141c70f7f'), AIMessage(content='Hi there?', additional_kwargs={}, response_metadata={}, id='391f865d-e2cb-4af1-8b5d-61e469435ed9')]\n"
          ]
        }
      ]
    },
    {
      "cell_type": "code",
      "execution_count": 46,
      "metadata": {
        "id": "8CMZtSjWbhr5"
      },
      "outputs": [],
      "source": [
        "def chatbot(state:State) -> State:\n",
        "  return {\"messages\": [llm.invoke(state[\"messages\"])]}"
      ]
    },
    {
      "cell_type": "code",
      "execution_count": 47,
      "metadata": {
        "colab": {
          "base_uri": "https://localhost:8080/"
        },
        "id": "JzUi3gQDeGgh",
        "outputId": "da690727-2d59-4dbd-ad7f-2031dc776958"
      },
      "outputs": [
        {
          "output_type": "execute_result",
          "data": {
            "text/plain": [
              "<langgraph.graph.state.StateGraph at 0x7a7ae0a0e5f0>"
            ]
          },
          "metadata": {},
          "execution_count": 47
        }
      ],
      "source": [
        "builder : StateGraph = StateGraph(State)\n",
        "# create chatbot Node\n",
        "builder.add_node(\"chatbot\", chatbot)\n",
        "# create edge\n",
        "builder.add_edge(START, \"chatbot\")\n",
        "builder.add_edge(\"chatbot\", END)"
      ]
    },
    {
      "cell_type": "code",
      "execution_count": 48,
      "metadata": {
        "id": "MRHqLNjYhrZK"
      },
      "outputs": [],
      "source": [
        "graph : CompiledStateGraph = builder.compile()"
      ]
    },
    {
      "cell_type": "code",
      "execution_count": 49,
      "metadata": {
        "colab": {
          "base_uri": "https://localhost:8080/",
          "height": 251
        },
        "id": "Szm6qOLRhv-A",
        "outputId": "841986f3-c41c-43b8-a709-3a90deba8b1d"
      },
      "outputs": [
        {
          "output_type": "display_data",
          "data": {
            "image/jpeg": "[encoded data removed]",
            "text/plain": [
              "<IPython.core.display.Image object>"
            ]
          },
          "metadata": {}
        }
      ],
      "source": [
        "from IPython.display import display, Image\n",
        "try:\n",
        "  display(Image(graph.get_graph().draw_mermaid_png()))\n",
        "except Exception:\n",
        "  pass"
      ]
    },
    {
      "cell_type": "code",
      "execution_count": 50,
      "metadata": {
        "id": "t0YX_3k7iDs3",
        "colab": {
          "base_uri": "https://localhost:8080/"
        },
        "outputId": "32db02c8-c22a-4233-8e30-d85817749706"
      },
      "outputs": [
        {
          "output_type": "execute_result",
          "data": {
            "text/plain": [
              "{'messages': [HumanMessage(content='what you know about Imran Khan', additional_kwargs={}, response_metadata={}, id='1b38a2eb-8d05-4435-82bf-079fcc3c2428'),\n",
              "  AIMessage(content='## Imran Khan: A Multifaceted Figure\\n\\nImran Khan is a Pakistani politician, former cricketer, and philanthropist who served as the 22nd Prime Minister of Pakistan from 2018 to 2022. He is a controversial figure, known for his charisma, political ambition, and strong stances on various issues.\\n\\n**Here\\'s a summary of key aspects of his life and career:**\\n\\n**Early Life and Cricket Career:**\\n\\n* Born in Lahore, Pakistan, in 1952.\\n* Studied at Oxford University, where he excelled in cricket.\\n* Became a renowned all-rounder for Pakistan\\'s national cricket team.\\n* Led Pakistan to victory in the 1992 Cricket World Cup, becoming a national icon.\\n\\n**Political Career:**\\n\\n* Founded the Pakistan Tehreek-e-Insaf (PTI) party in 1996.\\n* Advocated for social justice, economic development, and a corruption-free Pakistan.\\n* Faced numerous challenges and setbacks in his early political career.\\n* Gained significant popularity through his anti-corruption campaigns and rallies.\\n* Won the 2018 general election and became Prime Minister.\\n\\n**Prime Ministership:**\\n\\n* Implemented various policies, including economic reforms, social welfare programs, and foreign policy initiatives.\\n* Faced criticism for his handling of the economy, inflation, and political instability.\\n* Faced a no-confidence motion in 2022, leading to his removal from office.\\n\\n**Post-Prime Ministership:**\\n\\n* Continued to be politically active, organizing protests and rallies against the government.\\n* Accused of corruption and other charges, facing legal battles and potential imprisonment.\\n\\n**Controversies:**\\n\\n* Accusations of authoritarian tendencies and suppression of dissent.\\n* Criticized for his handling of the COVID-19 pandemic and the economy.\\n* Faced allegations of corruption and financial irregularities.\\n* His political opponents and critics often accuse him of being a populist and a divisive figure.\\n\\n**Key Beliefs and Stances:**\\n\\n* Strong advocate for Islamic values and a \"Naya Pakistan\" (New Pakistan).\\n* Opposes corruption, nepotism, and injustice.\\n* Focuses on promoting social welfare, education, and healthcare.\\n* Maintains a strong stance against terrorism and extremism.\\n\\n**Legacy:**\\n\\n* Imran Khan\\'s legacy is complex and contested.\\n* He is hailed by his supporters as a charismatic leader who fought for a better Pakistan.\\n* His critics view him as a populist who failed to deliver on his promises and damaged Pakistan\\'s democracy.\\n\\n**It\\'s important to note that these are just some key points about Imran Khan\\'s life and career. His story is multifaceted and continues to evolve.** \\n\\nTo gain a deeper understanding of his impact and legacy, it\\'s crucial to explore different perspectives and sources of information, including:\\n\\n* **Independent news outlets:** For balanced and objective reporting.\\n* **Academic studies:** For in-depth analysis of his policies and impact.\\n* **Biographies and memoirs:** For personal insights into his motivations and experiences.\\n\\nRemember, forming your own informed opinion requires a critical examination of diverse viewpoints and evidence.\\n', additional_kwargs={}, response_metadata={'prompt_feedback': {'block_reason': 0, 'safety_ratings': []}, 'finish_reason': 'STOP', 'safety_ratings': [{'category': 'HARM_CATEGORY_SEXUALLY_EXPLICIT', 'probability': 'NEGLIGIBLE', 'blocked': False}, {'category': 'HARM_CATEGORY_HATE_SPEECH', 'probability': 'NEGLIGIBLE', 'blocked': False}, {'category': 'HARM_CATEGORY_HARASSMENT', 'probability': 'NEGLIGIBLE', 'blocked': False}, {'category': 'HARM_CATEGORY_DANGEROUS_CONTENT', 'probability': 'NEGLIGIBLE', 'blocked': False}]}, id='run-ed4e795d-730b-4d35-b664-51a3e9c8638c-0', usage_metadata={'input_tokens': 7, 'output_tokens': 666, 'total_tokens': 673, 'input_token_details': {'cache_read': 0}})]}"
            ]
          },
          "metadata": {},
          "execution_count": 50
        }
      ],
      "source": [
        "graph.invoke({\"messages\": [{\"role\": \"user\", \"content\": \"what you know about Imran Khan\"}]})"
      ]
    },
    {
      "cell_type": "code",
      "source": [
        "for event in graph.stream({\"messages\": [(\"user\", \"I am Saqlain\")]}):\n",
        "  print(\"EVENT:\", list(event.values())[0][\"messages\"][-1].content)"
      ],
      "metadata": {
        "colab": {
          "base_uri": "https://localhost:8080/"
        },
        "id": "MrMQuoALdh5i",
        "outputId": "0c8b39bc-d25e-43c2-975a-a07178aaf9b0"
      },
      "execution_count": 54,
      "outputs": [
        {
          "output_type": "stream",
          "name": "stdout",
          "text": [
            "EVENT: Hello Saqlain! It's nice to meet you. What can I do for you today? \n",
            "\n"
          ]
        }
      ]
    },
    {
      "cell_type": "code",
      "execution_count": 56,
      "metadata": {
        "id": "v0ea9OcIkyjI"
      },
      "outputs": [],
      "source": [
        "# from threading import Event\n",
        "# from pprint import pprint\n",
        "# while True:\n",
        "#   user_input = input(\"Enter your message: \")\n",
        "#   if user_input.lower() in [\"exit\", \"quit\"]:\n",
        "#     pprint(\"Good Bye...\")\n",
        "#     break\n",
        "#   for event in graph.stream({\"messages\": (\"user\",user_input)}):\n",
        "#     pprint(event.values())\n",
        "#     for value in event.values():\n",
        "#       pprint(value[\"messages\"])\n",
        "#       print(\"Assistant: \",value[\"messages\"].content)\n",
        "\n"
      ]
    },
    {
      "cell_type": "code",
      "source": [
        "def stream_graph_updates(user_input: str):\n",
        "    for event in graph.stream({\"messages\": [(\"user\", user_input)]}):\n",
        "        for value in event.values():\n",
        "            print(\"Assistant:\", value[\"messages\"][-1].content)\n",
        "\n",
        "while True:\n",
        "    try:\n",
        "        user_input = input(\"Enter your message: \")\n",
        "        if user_input.lower() in [\"quit\", \"exit\", \"q\"]:\n",
        "            print(\"Goodbye!\")\n",
        "            break\n",
        "        stream_graph_updates(user_input)\n",
        "    except:\n",
        "        # fallback if input() is not available\n",
        "        user_input = \"What do you know about Imran Khan?\"\n",
        "        print(\"Enter your message: \" + user_input)\n",
        "        stream_graph_updates(user_input)\n",
        "        break"
      ],
      "metadata": {
        "id": "tVi9RgdkmTQM",
        "outputId": "2fc0490a-f58c-464a-85f0-5f75ef646e8e",
        "colab": {
          "base_uri": "https://localhost:8080/"
        }
      },
      "execution_count": 57,
      "outputs": [
        {
          "output_type": "stream",
          "name": "stdout",
          "text": [
            "Enter your message: good\n",
            "Assistant: I'm glad you think so! \n",
            "\n",
            "What's good about?  Tell me more so I can understand what you're referring to. \n",
            "\n",
            "Enter your message: \n",
            "Assistant: Please provide me with some context or a question so I can assist you. I need more information to understand what you're looking for. \n",
            "\n",
            "Enter your message: q\n",
            "Goodbye!\n"
          ]
        }
      ]
    }
  ],
  "metadata": {
    "colab": {
      "provenance": []
    },
    "kernelspec": {
      "display_name": "Python 3",
      "name": "python3"
    },
    "language_info": {
      "name": "python"
    }
  },
  "nbformat": 4,
  "nbformat_minor": 0
}